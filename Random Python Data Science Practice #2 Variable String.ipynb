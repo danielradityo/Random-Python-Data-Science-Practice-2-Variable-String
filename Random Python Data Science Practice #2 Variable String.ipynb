{
 "cells": [
  {
   "cell_type": "markdown",
   "metadata": {},
   "source": [
    "# Random Python Data Science Practice #2"
   ]
  },
  {
   "cell_type": "markdown",
   "metadata": {},
   "source": [
    "## Variable String"
   ]
  },
  {
   "cell_type": "code",
   "execution_count": 4,
   "metadata": {},
   "outputs": [
    {
     "name": "stdout",
     "output_type": "stream",
     "text": [
      "Please input your name: Daniel\n",
      "Hello my name is Daniel\n"
     ]
    }
   ],
   "source": [
    "# Variable String for textual or character use with single quotation mark or double quotation marks\n",
    "a = 'Hello' # --> string with single quotation mark\n",
    "b = \"my name is\" # --> string with double quotation mark\n",
    "c = str(input(\"Please input your name: \")) # --> Input variable with string\n",
    "\n",
    "print(a+' '+b+' '+c) # --> Result"
   ]
  }
 ],
 "metadata": {
  "kernelspec": {
   "display_name": "Python 3",
   "language": "python",
   "name": "python3"
  },
  "language_info": {
   "codemirror_mode": {
    "name": "ipython",
    "version": 3
   },
   "file_extension": ".py",
   "mimetype": "text/x-python",
   "name": "python",
   "nbconvert_exporter": "python",
   "pygments_lexer": "ipython3",
   "version": "3.8.5"
  }
 },
 "nbformat": 4,
 "nbformat_minor": 4
}
